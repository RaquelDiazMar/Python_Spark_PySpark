{
 "cells": [
  {
   "cell_type": "markdown",
   "id": "c4c92a9c",
   "metadata": {},
   "source": [
    "## Evaluar la eficiencia del código"
   ]
  },
  {
   "cell_type": "code",
   "execution_count": 2,
   "id": "f5f03450",
   "metadata": {},
   "outputs": [
    {
     "name": "stdout",
     "output_type": "stream",
     "text": [
      "0.5041210651397705\n"
     ]
    }
   ],
   "source": [
    "import time\n",
    "\n",
    "start = time.time()\n",
    "\n",
    "#Código\n",
    "time.sleep(0.5)\n",
    "\n",
    "end = time.time()\n",
    "\n",
    "print(end - start)"
   ]
  },
  {
   "cell_type": "code",
   "execution_count": 4,
   "id": "3f2f18b3",
   "metadata": {},
   "outputs": [
    {
     "name": "stdout",
     "output_type": "stream",
     "text": [
      "0:00:01.000516\n"
     ]
    }
   ],
   "source": [
    "from datetime import timedelta\n",
    "\n",
    "start = time.monotonic()\n",
    "\n",
    "# código\n",
    "\n",
    "time.sleep(1)\n",
    "\n",
    "end = time.monotonic()\n",
    "\n",
    "print(timedelta(seconds = end - start))"
   ]
  },
  {
   "cell_type": "code",
   "execution_count": 5,
   "id": "6c799f16",
   "metadata": {},
   "outputs": [
    {
     "name": "stdout",
     "output_type": "stream",
     "text": [
      "True\n"
     ]
    }
   ],
   "source": [
    "start = time.time()\n",
    "\n",
    "#Código\n",
    "time.sleep(0.5)\n",
    "\n",
    "end = time.time()\n",
    "\n",
    "\n",
    "start2 = time.time()\n",
    "\n",
    "#Código\n",
    "time.sleep(0.501)\n",
    "\n",
    "end2 = time.time()\n",
    "\n",
    "print(end - start > end2 - start2)"
   ]
  },
  {
   "cell_type": "code",
   "execution_count": null,
   "id": "3a565462",
   "metadata": {},
   "outputs": [],
   "source": []
  }
 ],
 "metadata": {
  "kernelspec": {
   "display_name": "Python 3.9.6 64-bit",
   "language": "python",
   "name": "python396jvsc74a57bd0aee8b7b246df8f9039afb4144a1f6fd8d2ca17a180786b69acc140d282b71a49"
  },
  "language_info": {
   "codemirror_mode": {
    "name": "ipython",
    "version": 3
   },
   "file_extension": ".py",
   "mimetype": "text/x-python",
   "name": "python",
   "nbconvert_exporter": "python",
   "pygments_lexer": "ipython3",
   "version": "3.9.7"
  }
 },
 "nbformat": 4,
 "nbformat_minor": 5
}
